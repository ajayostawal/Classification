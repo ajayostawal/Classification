{
  "nbformat": 4,
  "nbformat_minor": 0,
  "metadata": {
    "colab": {
      "name": "Logistic_Regression_Predict_Male/Female.ipynb",
      "provenance": [],
      "authorship_tag": "ABX9TyO6EpoJibptOBG0czmU5+aV",
      "include_colab_link": true
    },
    "kernelspec": {
      "name": "python3",
      "display_name": "Python 3"
    },
    "language_info": {
      "name": "python"
    }
  },
  "cells": [
    {
      "cell_type": "markdown",
      "metadata": {
        "id": "view-in-github",
        "colab_type": "text"
      },
      "source": [
        "<a href=\"https://colab.research.google.com/github/ajayostawal/Classification/blob/main/Classification_all_algo.ipynb\" target=\"_parent\"><img src=\"https://colab.research.google.com/assets/colab-badge.svg\" alt=\"Open In Colab\"/></a>"
      ]
    },
    {
      "cell_type": "code",
      "metadata": {
        "id": "BSp2EyKn3IzK"
      },
      "source": [
        "#importing all the dependencies\n",
        "import pandas as pd\n",
        "import matplotlib.pyplot as plt\n",
        "from sklearn.model_selection import train_test_split\n",
        "from sklearn import tree\n",
        "from sklearn import svm\n",
        "from sklearn import neighbors\n",
        "from sklearn import metrics\n",
        "from sklearn.naive_bayes import GaussianNB\n",
        "from sklearn.linear_model import LogisticRegression\n",
        "from sklearn.metrics import accuracy_score\n",
        "from sklearn.metrics import confusion_matrix\n",
        "\n",
        "from sklearn.metrics import classification_report\n",
        "df= pd.read_csv(\"/content/height_weight.csv\")"
      ],
      "execution_count": 48,
      "outputs": []
    },
    {
      "cell_type": "code",
      "metadata": {
        "colab": {
          "base_uri": "https://localhost:8080/",
          "height": 203
        },
        "id": "HL8U2fHH3Xvy",
        "outputId": "f8c774a2-02c0-4410-a78e-d3d7ddc9431b"
      },
      "source": [
        "df.head()"
      ],
      "execution_count": 16,
      "outputs": [
        {
          "output_type": "execute_result",
          "data": {
            "text/html": [
              "<div>\n",
              "<style scoped>\n",
              "    .dataframe tbody tr th:only-of-type {\n",
              "        vertical-align: middle;\n",
              "    }\n",
              "\n",
              "    .dataframe tbody tr th {\n",
              "        vertical-align: top;\n",
              "    }\n",
              "\n",
              "    .dataframe thead th {\n",
              "        text-align: right;\n",
              "    }\n",
              "</style>\n",
              "<table border=\"1\" class=\"dataframe\">\n",
              "  <thead>\n",
              "    <tr style=\"text-align: right;\">\n",
              "      <th></th>\n",
              "      <th>Height</th>\n",
              "      <th>Weight</th>\n",
              "      <th>Male</th>\n",
              "    </tr>\n",
              "  </thead>\n",
              "  <tbody>\n",
              "    <tr>\n",
              "      <th>0</th>\n",
              "      <td>73.847017</td>\n",
              "      <td>241.893563</td>\n",
              "      <td>1</td>\n",
              "    </tr>\n",
              "    <tr>\n",
              "      <th>1</th>\n",
              "      <td>68.781904</td>\n",
              "      <td>162.310473</td>\n",
              "      <td>1</td>\n",
              "    </tr>\n",
              "    <tr>\n",
              "      <th>2</th>\n",
              "      <td>74.110105</td>\n",
              "      <td>212.740856</td>\n",
              "      <td>1</td>\n",
              "    </tr>\n",
              "    <tr>\n",
              "      <th>3</th>\n",
              "      <td>71.730978</td>\n",
              "      <td>220.042470</td>\n",
              "      <td>1</td>\n",
              "    </tr>\n",
              "    <tr>\n",
              "      <th>4</th>\n",
              "      <td>69.881796</td>\n",
              "      <td>206.349801</td>\n",
              "      <td>1</td>\n",
              "    </tr>\n",
              "  </tbody>\n",
              "</table>\n",
              "</div>"
            ],
            "text/plain": [
              "      Height      Weight  Male\n",
              "0  73.847017  241.893563     1\n",
              "1  68.781904  162.310473     1\n",
              "2  74.110105  212.740856     1\n",
              "3  71.730978  220.042470     1\n",
              "4  69.881796  206.349801     1"
            ]
          },
          "metadata": {
            "tags": []
          },
          "execution_count": 16
        }
      ]
    },
    {
      "cell_type": "code",
      "metadata": {
        "colab": {
          "base_uri": "https://localhost:8080/"
        },
        "id": "Dmk7LkL53ZWH",
        "outputId": "3506d26f-4a98-4bb1-f852-30c3938d435c"
      },
      "source": [
        "df.info()"
      ],
      "execution_count": 17,
      "outputs": [
        {
          "output_type": "stream",
          "text": [
            "<class 'pandas.core.frame.DataFrame'>\n",
            "RangeIndex: 10000 entries, 0 to 9999\n",
            "Data columns (total 3 columns):\n",
            " #   Column  Non-Null Count  Dtype  \n",
            "---  ------  --------------  -----  \n",
            " 0   Height  10000 non-null  float64\n",
            " 1   Weight  10000 non-null  float64\n",
            " 2   Male    10000 non-null  int64  \n",
            "dtypes: float64(2), int64(1)\n",
            "memory usage: 234.5 KB\n"
          ],
          "name": "stdout"
        }
      ]
    },
    {
      "cell_type": "code",
      "metadata": {
        "colab": {
          "base_uri": "https://localhost:8080/",
          "height": 295
        },
        "id": "1P6kLGXS3cai",
        "outputId": "6a376670-08b4-43c8-ab3d-a6340368914c"
      },
      "source": [
        "df.describe()"
      ],
      "execution_count": 18,
      "outputs": [
        {
          "output_type": "execute_result",
          "data": {
            "text/html": [
              "<div>\n",
              "<style scoped>\n",
              "    .dataframe tbody tr th:only-of-type {\n",
              "        vertical-align: middle;\n",
              "    }\n",
              "\n",
              "    .dataframe tbody tr th {\n",
              "        vertical-align: top;\n",
              "    }\n",
              "\n",
              "    .dataframe thead th {\n",
              "        text-align: right;\n",
              "    }\n",
              "</style>\n",
              "<table border=\"1\" class=\"dataframe\">\n",
              "  <thead>\n",
              "    <tr style=\"text-align: right;\">\n",
              "      <th></th>\n",
              "      <th>Height</th>\n",
              "      <th>Weight</th>\n",
              "      <th>Male</th>\n",
              "    </tr>\n",
              "  </thead>\n",
              "  <tbody>\n",
              "    <tr>\n",
              "      <th>count</th>\n",
              "      <td>10000.000000</td>\n",
              "      <td>10000.000000</td>\n",
              "      <td>10000.000000</td>\n",
              "    </tr>\n",
              "    <tr>\n",
              "      <th>mean</th>\n",
              "      <td>66.367560</td>\n",
              "      <td>161.440357</td>\n",
              "      <td>0.500000</td>\n",
              "    </tr>\n",
              "    <tr>\n",
              "      <th>std</th>\n",
              "      <td>3.847528</td>\n",
              "      <td>32.108439</td>\n",
              "      <td>0.500025</td>\n",
              "    </tr>\n",
              "    <tr>\n",
              "      <th>min</th>\n",
              "      <td>54.263133</td>\n",
              "      <td>64.700127</td>\n",
              "      <td>0.000000</td>\n",
              "    </tr>\n",
              "    <tr>\n",
              "      <th>25%</th>\n",
              "      <td>63.505620</td>\n",
              "      <td>135.818051</td>\n",
              "      <td>0.000000</td>\n",
              "    </tr>\n",
              "    <tr>\n",
              "      <th>50%</th>\n",
              "      <td>66.318070</td>\n",
              "      <td>161.212928</td>\n",
              "      <td>0.500000</td>\n",
              "    </tr>\n",
              "    <tr>\n",
              "      <th>75%</th>\n",
              "      <td>69.174262</td>\n",
              "      <td>187.169525</td>\n",
              "      <td>1.000000</td>\n",
              "    </tr>\n",
              "    <tr>\n",
              "      <th>max</th>\n",
              "      <td>78.998742</td>\n",
              "      <td>269.989699</td>\n",
              "      <td>1.000000</td>\n",
              "    </tr>\n",
              "  </tbody>\n",
              "</table>\n",
              "</div>"
            ],
            "text/plain": [
              "             Height        Weight          Male\n",
              "count  10000.000000  10000.000000  10000.000000\n",
              "mean      66.367560    161.440357      0.500000\n",
              "std        3.847528     32.108439      0.500025\n",
              "min       54.263133     64.700127      0.000000\n",
              "25%       63.505620    135.818051      0.000000\n",
              "50%       66.318070    161.212928      0.500000\n",
              "75%       69.174262    187.169525      1.000000\n",
              "max       78.998742    269.989699      1.000000"
            ]
          },
          "metadata": {
            "tags": []
          },
          "execution_count": 18
        }
      ]
    },
    {
      "cell_type": "code",
      "metadata": {
        "colab": {
          "base_uri": "https://localhost:8080/"
        },
        "id": "CJxMc92n4YcE",
        "outputId": "867f7251-37fb-4e8a-bcb2-7ca7d89ddcd9"
      },
      "source": [
        "df['Male'].unique()"
      ],
      "execution_count": 21,
      "outputs": [
        {
          "output_type": "execute_result",
          "data": {
            "text/plain": [
              "array([1, 0])"
            ]
          },
          "metadata": {
            "tags": []
          },
          "execution_count": 21
        }
      ]
    },
    {
      "cell_type": "code",
      "metadata": {
        "id": "tBUo4pYd34lF"
      },
      "source": [
        "\n",
        "df=pd.DataFrame()"
      ],
      "execution_count": 8,
      "outputs": []
    },
    {
      "cell_type": "code",
      "metadata": {
        "colab": {
          "base_uri": "https://localhost:8080/",
          "height": 264
        },
        "id": "zLye72nM3fhI",
        "outputId": "41529db0-4111-40b1-a058-fe32a9093b5f"
      },
      "source": [
        "#Checking if data is balanced or not using pie chart for our target variable - gender\n",
        "labels = df.Male.unique()\n",
        "sizes = [(df.Male == labels[0]).sum(), (df.Male == labels[1]).sum()]\n",
        "plt.pie(sizes, labels = labels, autopct='%1.1f%%', startangle = 90)\n",
        "plt.title(\"Checking if data is balanced or not with a pie chart\")\n",
        "plt.show()"
      ],
      "execution_count": 23,
      "outputs": [
        {
          "output_type": "display_data",
          "data": {
            "image/png": "[encoded data removed]",
            "text/plain": [
              "<Figure size 432x288 with 1 Axes>"
            ]
          },
          "metadata": {
            "tags": []
          }
        }
      ]
    },
    {
      "cell_type": "code",
      "metadata": {
        "colab": {
          "base_uri": "https://localhost:8080/",
          "height": 545
        },
        "id": "5VN8-tLZ3yvm",
        "outputId": "826c7cf8-b89d-41de-95ae-6a5268e614f2"
      },
      "source": [
        "#Outliers\n",
        "plt.boxplot(df.Weight)\n",
        "plt.title('Box-plot for weight')\n",
        "plt.show()\n",
        "\n",
        "plt.boxplot(df.Height)\n",
        "plt.title('Box-plot for height')\n",
        "plt.show()"
      ],
      "execution_count": 24,
      "outputs": [
        {
          "output_type": "display_data",
          "data": {
            "image/png": "[encoded data removed]",
            "text/plain": [
              "<Figure size 432x288 with 1 Axes>"
            ]
          },
          "metadata": {
            "tags": [],
            "needs_background": "light"
          }
        },
        {
          "output_type": "display_data",
          "data": {
            "image/png": "[encoded data removed]",
            "text/plain": [
              "<Figure size 432x288 with 1 Axes>"
            ]
          },
          "metadata": {
            "tags": [],
            "needs_background": "light"
          }
        }
      ]
    },
    {
      "cell_type": "code",
      "metadata": {
        "colab": {
          "base_uri": "https://localhost:8080/"
        },
        "id": "Kn3MC5rL5TIK",
        "outputId": "46f487c8-bc6c-44f6-bb92-9cd58b81089c"
      },
      "source": [
        "print(df.groupby('Male')['Height'].describe())\n"
      ],
      "execution_count": 26,
      "outputs": [
        {
          "output_type": "stream",
          "text": [
            "       count       mean       std  ...        50%        75%        max\n",
            "Male                               ...                                 \n",
            "0     5000.0  63.708774  2.696284  ...  63.730924  65.563565  73.389586\n",
            "1     5000.0  69.026346  2.863362  ...  69.027709  70.988744  78.998742\n",
            "\n",
            "[2 rows x 8 columns]\n"
          ],
          "name": "stdout"
        }
      ]
    },
    {
      "cell_type": "code",
      "metadata": {
        "colab": {
          "base_uri": "https://localhost:8080/"
        },
        "id": "cw8Mp9c85WQP",
        "outputId": "ba7cdcb0-aac5-486d-81db-b8458401b670"
      },
      "source": [
        "print(df.groupby('Male')['Weight'].describe())\n"
      ],
      "execution_count": 27,
      "outputs": [
        {
          "output_type": "stream",
          "text": [
            "       count        mean        std  ...         50%         75%         max\n",
            "Male                                 ...                                    \n",
            "0     5000.0  135.860093  19.022468  ...  136.117583  148.810926  202.237214\n",
            "1     5000.0  187.020621  19.781155  ...  187.033546  200.357802  269.989699\n",
            "\n",
            "[2 rows x 8 columns]\n"
          ],
          "name": "stdout"
        }
      ]
    },
    {
      "cell_type": "code",
      "metadata": {
        "colab": {
          "base_uri": "https://localhost:8080/",
          "height": 295
        },
        "id": "L9CkXSnj5k9s",
        "outputId": "143fc659-80db-45f4-f578-696ff5f0897c"
      },
      "source": [
        "#scatter plot to analyse height vs weight\n",
        "weight = df['Weight']\n",
        "height = df['Height']\n",
        "plt.scatter(height, weight)\n",
        "plt.xlabel('Height')\n",
        "plt.ylabel('Weight')\n",
        "plt.title(\"Height vs Weight\")\n",
        "plt.show()"
      ],
      "execution_count": 28,
      "outputs": [
        {
          "output_type": "display_data",
          "data": {
            "image/png": "[encoded data removed]",
            "text/plain": [
              "<Figure size 432x288 with 1 Axes>"
            ]
          },
          "metadata": {
            "tags": [],
            "needs_background": "light"
          }
        }
      ]
    },
    {
      "cell_type": "code",
      "metadata": {
        "colab": {
          "base_uri": "https://localhost:8080/",
          "height": 573
        },
        "id": "ONlGwvWs5pXg",
        "outputId": "ec18804e-75e5-45db-c8cf-92afcd7ae982"
      },
      "source": [
        "#histogram for height\n",
        "plt.hist(height, bins = 10)\n",
        "plt.xlabel('Bins')\n",
        "plt.ylabel('Frequency')\n",
        "plt.title('Histogram for height')\n",
        "plt.show()\n",
        "\n",
        "#histogram for weight\n",
        "plt.hist(weight, bins = 10)\n",
        "plt.xlabel('Bins')\n",
        "plt.ylabel('Frequency')\n",
        "plt.title('Histogram for weight')\n",
        "plt.show()"
      ],
      "execution_count": 29,
      "outputs": [
        {
          "output_type": "display_data",
          "data": {
            "image/png": "[encoded data removed]",
            "text/plain": [
              "<Figure size 432x288 with 1 Axes>"
            ]
          },
          "metadata": {
            "tags": [],
            "needs_background": "light"
          }
        },
        {
          "output_type": "display_data",
          "data": {
            "image/png": "[encoded data removed]",
            "text/plain": [
              "<Figure size 432x288 with 1 Axes>"
            ]
          },
          "metadata": {
            "tags": [],
            "needs_background": "light"
          }
        }
      ]
    },
    {
      "cell_type": "code",
      "metadata": {
        "colab": {
          "base_uri": "https://localhost:8080/",
          "height": 203
        },
        "id": "E-xs-iX15srK",
        "outputId": "a5ecd221-ee6b-428e-c134-279cd9cbad3c"
      },
      "source": [
        "df.head()"
      ],
      "execution_count": 31,
      "outputs": [
        {
          "output_type": "execute_result",
          "data": {
            "text/html": [
              "<div>\n",
              "<style scoped>\n",
              "    .dataframe tbody tr th:only-of-type {\n",
              "        vertical-align: middle;\n",
              "    }\n",
              "\n",
              "    .dataframe tbody tr th {\n",
              "        vertical-align: top;\n",
              "    }\n",
              "\n",
              "    .dataframe thead th {\n",
              "        text-align: right;\n",
              "    }\n",
              "</style>\n",
              "<table border=\"1\" class=\"dataframe\">\n",
              "  <thead>\n",
              "    <tr style=\"text-align: right;\">\n",
              "      <th></th>\n",
              "      <th>Height</th>\n",
              "      <th>Weight</th>\n",
              "      <th>Male</th>\n",
              "    </tr>\n",
              "  </thead>\n",
              "  <tbody>\n",
              "    <tr>\n",
              "      <th>0</th>\n",
              "      <td>73.847017</td>\n",
              "      <td>241.893563</td>\n",
              "      <td>1</td>\n",
              "    </tr>\n",
              "    <tr>\n",
              "      <th>1</th>\n",
              "      <td>68.781904</td>\n",
              "      <td>162.310473</td>\n",
              "      <td>1</td>\n",
              "    </tr>\n",
              "    <tr>\n",
              "      <th>2</th>\n",
              "      <td>74.110105</td>\n",
              "      <td>212.740856</td>\n",
              "      <td>1</td>\n",
              "    </tr>\n",
              "    <tr>\n",
              "      <th>3</th>\n",
              "      <td>71.730978</td>\n",
              "      <td>220.042470</td>\n",
              "      <td>1</td>\n",
              "    </tr>\n",
              "    <tr>\n",
              "      <th>4</th>\n",
              "      <td>69.881796</td>\n",
              "      <td>206.349801</td>\n",
              "      <td>1</td>\n",
              "    </tr>\n",
              "  </tbody>\n",
              "</table>\n",
              "</div>"
            ],
            "text/plain": [
              "      Height      Weight  Male\n",
              "0  73.847017  241.893563     1\n",
              "1  68.781904  162.310473     1\n",
              "2  74.110105  212.740856     1\n",
              "3  71.730978  220.042470     1\n",
              "4  69.881796  206.349801     1"
            ]
          },
          "metadata": {
            "tags": []
          },
          "execution_count": 31
        }
      ]
    },
    {
      "cell_type": "code",
      "metadata": {
        "id": "2CalyRat6a9k"
      },
      "source": [
        "X=df.iloc[:,:2]\n",
        "Y=df.iloc[:,2:3]"
      ],
      "execution_count": 37,
      "outputs": []
    },
    {
      "cell_type": "code",
      "metadata": {
        "id": "Xb4OXV6l6lcl"
      },
      "source": [
        "x_train,x_test,y_train,y_test = train_test_split(X,Y,test_size=0.2,random_state=10)"
      ],
      "execution_count": 53,
      "outputs": []
    },
    {
      "cell_type": "code",
      "metadata": {
        "colab": {
          "base_uri": "https://localhost:8080/"
        },
        "id": "2wgAe6hJ6l74",
        "outputId": "29fd2e0f-5db1-4e12-cd52-7e202fc9b924"
      },
      "source": [
        "print(\"Test data set\")\n",
        "print(x_test.head())\n",
        "print()\n",
        "print(\"Train data set\")\n",
        "print(x_train.head())\n",
        "print('')\n",
        "print(\"No. of data in test:\" +str(len(test)))\n",
        "print(\"No. of data in train:\" +str(len(train)))\n",
        "\n",
        "print(train.groupby('Male').count())\n"
      ],
      "execution_count": 54,
      "outputs": [
        {
          "output_type": "stream",
          "text": [
            "Test data set\n",
            "         Height      Weight\n",
            "937   68.321453  206.426147\n",
            "9355  64.654718  148.962314\n",
            "2293  74.034598  217.815798\n",
            "192   69.728805  203.895655\n",
            "8675  64.579930  127.372238\n",
            "\n",
            "Train data set\n",
            "         Height      Weight\n",
            "7496  62.356003  124.723534\n",
            "7694  59.413107  103.386161\n",
            "9248  64.553698  124.101735\n",
            "2470  64.914932  148.906905\n",
            "4392  69.944080  196.178101\n",
            "\n",
            "No. of data in test:2000\n",
            "No. of data in train:8000\n",
            "      Height  Weight\n",
            "Male                \n",
            "0       3992    3992\n",
            "1       4008    4008\n"
          ],
          "name": "stdout"
        }
      ]
    },
    {
      "cell_type": "code",
      "metadata": {
        "colab": {
          "base_uri": "https://localhost:8080/"
        },
        "id": "WQRQMSnh7kjZ",
        "outputId": "9bcbab17-a3ba-4b36-b77f-aa685df7cfba"
      },
      "source": [
        "#defining classifiers\n",
        "clf1 = tree.DecisionTreeClassifier()\n",
        "clf2 = svm.SVC(gamma='auto')\n",
        "clf3 = neighbors.KNeighborsClassifier()\n",
        "clf4 = GaussianNB()\n",
        "clf5 = LogisticRegression()\n",
        "\n",
        "#fitting data\n",
        "clf1 = clf1.fit(x_train,y_train)\n",
        "clf2 = clf2.fit(x_train,y_train)\n",
        "clf3 = clf3.fit(x_train, y_train)\n",
        "clf4 = clf4.fit(x_train, y_train)\n",
        "clf5 = clf5.fit(x_train, y_train)\n",
        "\n",
        "#making predictions\n",
        "prediction1 = clf1.predict(x_test)\n",
        "prediction2 = clf2.predict(x_test)\n",
        "prediction3 = clf3.predict(x_test)\n",
        "prediction4 = clf4.predict(x_test)\n",
        "prediction5 = clf5.predict(x_test)"
      ],
      "execution_count": 55,
      "outputs": [
        {
          "output_type": "stream",
          "text": [
            "/usr/local/lib/python3.7/dist-packages/sklearn/utils/validation.py:760: DataConversionWarning: A column-vector y was passed when a 1d array was expected. Please change the shape of y to (n_samples, ), for example using ravel().\n",
            "  y = column_or_1d(y, warn=True)\n",
            "/usr/local/lib/python3.7/dist-packages/ipykernel_launcher.py:11: DataConversionWarning: A column-vector y was passed when a 1d array was expected. Please change the shape of y to (n_samples, ), for example using ravel().\n",
            "  # This is added back by InteractiveShellApp.init_path()\n",
            "/usr/local/lib/python3.7/dist-packages/sklearn/naive_bayes.py:206: DataConversionWarning: A column-vector y was passed when a 1d array was expected. Please change the shape of y to (n_samples, ), for example using ravel().\n",
            "  y = column_or_1d(y, warn=True)\n",
            "/usr/local/lib/python3.7/dist-packages/sklearn/utils/validation.py:760: DataConversionWarning: A column-vector y was passed when a 1d array was expected. Please change the shape of y to (n_samples, ), for example using ravel().\n",
            "  y = column_or_1d(y, warn=True)\n"
          ],
          "name": "stderr"
        }
      ]
    },
    {
      "cell_type": "code",
      "metadata": {
        "colab": {
          "base_uri": "https://localhost:8080/"
        },
        "id": "GSKIz8Zv8D-Y",
        "outputId": "83a22815-159f-40fa-f642-ce98719f0952"
      },
      "source": [
        "#checking accuracy\n",
        "r1 = accuracy_score(y_test, prediction1)\n",
        "r2 = accuracy_score(y_test, prediction2)\n",
        "r3 = accuracy_score(y_test, prediction3)\n",
        "r4 = accuracy_score(y_test, prediction4)\n",
        "r5 = accuracy_score(y_test, prediction5)\n",
        "\n",
        "\n",
        "print(\"Accuracy score of Model 1: DecisionTreeClassifier is \"+str(r1))\n",
        "print(\"Accuracy score of Model 2: SupportVectorMachine is \"+str(r2))\n",
        "print(\"Accuracy score of Model 3: KNN is \"+str(r3))\n",
        "print(\"Accuracy score of Model 4: GaussianNB is \"+str(r4))\n",
        "print(\"Accuracy score of Model 4: Logistic_Regression is \"+str(r5))"
      ],
      "execution_count": 56,
      "outputs": [
        {
          "output_type": "stream",
          "text": [
            "Accuracy score of Model 1: DecisionTreeClassifier is 0.8795\n",
            "Accuracy score of Model 2: SupportVectorMachine is 0.9225\n",
            "Accuracy score of Model 3: KNN is 0.917\n",
            "Accuracy score of Model 4: GaussianNB is 0.8935\n",
            "Accuracy score of Model 4: Logistic_Regression is 0.9255\n"
          ],
          "name": "stdout"
        }
      ]
    },
    {
      "cell_type": "code",
      "metadata": {
        "colab": {
          "base_uri": "https://localhost:8080/"
        },
        "id": "R6_Z_NQ88yA8",
        "outputId": "745a7f07-5c70-43fb-9444-e814436f4edd"
      },
      "source": [
        "#finding misclassification rate\n",
        "mr1 = (1-metrics.accuracy_score(y_test, prediction1))\n",
        "mr2 = (1-metrics.accuracy_score(y_test, prediction2))\n",
        "mr3 = (1-metrics.accuracy_score(y_test, prediction3))\n",
        "mr4 = (1-metrics.accuracy_score(y_test, prediction4))\n",
        "mr5 = (1-metrics.accuracy_score(y_test, prediction5))\n",
        "\n",
        "print(\"Misclassification Rate of Decision Tree: \"+ str(mr1))\n",
        "print(\"Misclassification Rate of SVM: \"+ str(mr2))\n",
        "print(\"Misclassification Rate of KNN: \"+ str(mr3))\n",
        "print(\"Misclassification Rate of Naive Bayes: \"+ str(mr4))\n",
        "print(\"Misclassification Rate of Logistic Regression: \"+ str(mr5))"
      ],
      "execution_count": 57,
      "outputs": [
        {
          "output_type": "stream",
          "text": [
            "Misclassification Rate of Decision Tree: 0.12050000000000005\n",
            "Misclassification Rate of SVM: 0.07750000000000001\n",
            "Misclassification Rate of KNN: 0.08299999999999996\n",
            "Misclassification Rate of Naive Bayes: 0.10650000000000004\n",
            "Misclassification Rate of Logistic Regression: 0.07450000000000001\n"
          ],
          "name": "stdout"
        }
      ]
    },
    {
      "cell_type": "code",
      "metadata": {
        "colab": {
          "base_uri": "https://localhost:8080/"
        },
        "id": "KVPD4zC_9IF2",
        "outputId": "888855d5-3544-4081-a3df-0b144d93cc9a"
      },
      "source": [
        "#confusion matrix\n",
        "\n",
        "#decision tree\n",
        "cm1 = confusion_matrix(y_test, prediction1)\n",
        "TP1 = cm1[1,1]\n",
        "TN1 = cm1[0,0]\n",
        "FP1 = cm1[0,1]\n",
        "FN1 = cm1[1,0]\n",
        "\n",
        "#svm\n",
        "cm2 = confusion_matrix(y_test, prediction2)\n",
        "TP2 = cm2[1,1]\n",
        "TN2 = cm2[0,0]\n",
        "FP2 = cm2[0,1]\n",
        "FN2 = cm2[1,0]\n",
        "\n",
        "#knn\n",
        "cm3 = confusion_matrix(y_test, prediction3)\n",
        "TP3 = cm3[1,1]\n",
        "TN3 = cm3[0,0]\n",
        "FP3 = cm3[0,1]\n",
        "FN3 = cm3[1,0]\n",
        "\n",
        "#naive-bayes\n",
        "cm4 = confusion_matrix(y_test, prediction4)\n",
        "TP4 = cm4[1,1]\n",
        "TN4 = cm4[0,0]\n",
        "FP4 = cm4[0,1]\n",
        "FN4 = cm4[1,0]\n",
        "\n",
        "#naive-bayes\n",
        "cm5 = confusion_matrix(y_test, prediction5)\n",
        "TP5 = cm5[1,1]\n",
        "TN5 = cm5[0,0]\n",
        "FP5 = cm5[0,1]\n",
        "FN5 = cm5[1,0]\n",
        "\n",
        "#sensitivity\n",
        "sen1 = TP1 / float(FN1 + TP1)\n",
        "sen2 = TP2 / float(FN2 + TP2)\n",
        "sen3 = TP3 / float(FN3 + TP3)\n",
        "sen4 = TP4 / float(FN4 + TP4)\n",
        "sen5 = TP5 / float(FN5 + TP5)\n",
        "\n",
        "\n",
        "#specificity\n",
        "spec1 = TN1 / (TN1 + FP1)\n",
        "spec2 = TN2 / (TN2 + FP2)\n",
        "spec3 = TN3 / (TN3 + FP3)\n",
        "spec4 = TN4 / (TN4 + FP4)\n",
        "spec5 = TN5 / (TN5 + FP5)\n",
        "\n",
        "\n",
        "#printing\n",
        "print(\"Sensitivity Rate of Decision Tree: \"+ str(sen1))\n",
        "print(\"Sensitivity Rate of SVM: \"+ str(sen2))\n",
        "print(\"Sensitivity Rate of KNN: \"+ str(sen3))\n",
        "print(\"Sensitivity Rate of Naive Bayes: \"+ str(sen4))\n",
        "print(\"Sensitivity Rate of LogisticRegression: \"+ str(sen5))\n",
        "\n",
        "print()\n",
        "print(\"Specificity Rate of Decision Tree: \"+ str(spec1))\n",
        "print(\"Specificity Rate of SVM: \"+ str(spec2))\n",
        "print(\"Specificity Rate of KNN: \"+ str(spec3))\n",
        "print(\"Specificity Rate of Naive Bayes: \"+ str(spec4))\n",
        "print(\"Specificity Rate of LogisticRegression: \"+ str(spec5))\n",
        "\n",
        "print()\n",
        "print(\"Classification Report: Decision Tree\")\n",
        "print(classification_report(y_test, prediction1))\n",
        "print(\"Classification Report: SVM\")\n",
        "print(classification_report(y_test, prediction2))\n",
        "print(\"Classification Report: KNN\")\n",
        "print(classification_report(y_test, prediction3))\n",
        "print(\"Classification Report: Naive-Bayes\")\n",
        "print(classification_report(y_test, prediction4))\n",
        "print(\"Classification Report: LogisticRegression\")\n",
        "print(classification_report(y_test, prediction5))"
      ],
      "execution_count": 58,
      "outputs": [
        {
          "output_type": "stream",
          "text": [
            "Sensitivity Rate of Decision Tree: 0.8776699029126214\n",
            "Sensitivity Rate of SVM: 0.9223300970873787\n",
            "Sensitivity Rate of KNN: 0.9067961165048544\n",
            "Sensitivity Rate of Naive Bayes: 0.8815533980582524\n",
            "Sensitivity Rate of LogisticRegression: 0.9242718446601942\n",
            "\n",
            "Specificity Rate of Decision Tree: 0.8814432989690721\n",
            "Specificity Rate of SVM: 0.9226804123711341\n",
            "Specificity Rate of KNN: 0.9278350515463918\n",
            "Specificity Rate of Naive Bayes: 0.9061855670103093\n",
            "Specificity Rate of LogisticRegression: 0.9268041237113402\n",
            "\n",
            "Classification Report: Decision Tree\n",
            "              precision    recall  f1-score   support\n",
            "\n",
            "           0       0.87      0.88      0.88       970\n",
            "           1       0.89      0.88      0.88      1030\n",
            "\n",
            "    accuracy                           0.88      2000\n",
            "   macro avg       0.88      0.88      0.88      2000\n",
            "weighted avg       0.88      0.88      0.88      2000\n",
            "\n",
            "Classification Report: SVM\n",
            "              precision    recall  f1-score   support\n",
            "\n",
            "           0       0.92      0.92      0.92       970\n",
            "           1       0.93      0.92      0.92      1030\n",
            "\n",
            "    accuracy                           0.92      2000\n",
            "   macro avg       0.92      0.92      0.92      2000\n",
            "weighted avg       0.92      0.92      0.92      2000\n",
            "\n",
            "Classification Report: KNN\n",
            "              precision    recall  f1-score   support\n",
            "\n",
            "           0       0.90      0.93      0.92       970\n",
            "           1       0.93      0.91      0.92      1030\n",
            "\n",
            "    accuracy                           0.92      2000\n",
            "   macro avg       0.92      0.92      0.92      2000\n",
            "weighted avg       0.92      0.92      0.92      2000\n",
            "\n",
            "Classification Report: Naive-Bayes\n",
            "              precision    recall  f1-score   support\n",
            "\n",
            "           0       0.88      0.91      0.89       970\n",
            "           1       0.91      0.88      0.90      1030\n",
            "\n",
            "    accuracy                           0.89      2000\n",
            "   macro avg       0.89      0.89      0.89      2000\n",
            "weighted avg       0.89      0.89      0.89      2000\n",
            "\n",
            "Classification Report: LogisticRegression\n",
            "              precision    recall  f1-score   support\n",
            "\n",
            "           0       0.92      0.93      0.92       970\n",
            "           1       0.93      0.92      0.93      1030\n",
            "\n",
            "    accuracy                           0.93      2000\n",
            "   macro avg       0.93      0.93      0.93      2000\n",
            "weighted avg       0.93      0.93      0.93      2000\n",
            "\n"
          ],
          "name": "stdout"
        }
      ]
    },
    {
      "cell_type": "code",
      "metadata": {
        "colab": {
          "base_uri": "https://localhost:8080/"
        },
        "id": "1UQ-m-Um-BKK",
        "outputId": "c26535bd-bbe3-49ec-ef90-ddc543b02af4"
      },
      "source": [
        "#Making a prediction for a user\n",
        "height = 56\n",
        "weight =100\n",
        "prediction = clf5.predict([[height, weight]])\n",
        "print(\"The classifier predicts that you could be \" +str(prediction[0]))"
      ],
      "execution_count": 60,
      "outputs": [
        {
          "output_type": "stream",
          "text": [
            "The classifier predicts that you could be 0\n"
          ],
          "name": "stdout"
        }
      ]
    },
    {
      "cell_type": "code",
      "metadata": {
        "id": "WO8TH2sv-TFx"
      },
      "source": [
        ""
      ],
      "execution_count": null,
      "outputs": []
    }
  ]
}